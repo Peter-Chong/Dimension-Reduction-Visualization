{
 "cells": [
  {
   "cell_type": "code",
   "execution_count": null,
   "metadata": {},
   "outputs": [],
   "source": [
    "start = time.time()\n",
    "pca_50 = PCA(n_components=50)\n",
    "pca_50_result = pca_50.fit_transform(x)\n",
    "tsne = TSNE(random_state=1, n_components=3, perplexity=50, n_iter=500).fit_transform(pca_50_result)\n",
    "end = time.time()\n",
    "print('Time elapsed: {}s'.format(round(end - start, 5)))"
   ]
  },
  {
   "cell_type": "code",
   "execution_count": null,
   "metadata": {},
   "outputs": [],
   "source": [
    "tsne_plot = pd.DataFrame(tsne)\n",
    "tsne_plot.columns = ['t-SNE 1', 't-SNE 2', 't-SNE 3']\n",
    "tsne_plot['labels'] = y_label"
   ]
  },
  {
   "cell_type": "code",
   "execution_count": null,
   "metadata": {},
   "outputs": [],
   "source": [
    "fig = px.scatter(tsne_plot, x='t-SNE 1', y='t-SNE 2', color='labels', opacity=0.8)\n",
    "fig.update_traces(marker=dict(line=dict(width=0.4)))\n",
    "fig.show()"
   ]
  },
  {
   "cell_type": "code",
   "execution_count": null,
   "metadata": {},
   "outputs": [],
   "source": [
    "fig = px.scatter_3d(tsne_plot, x='t-SNE 1', y='t-SNE 2', z='t-SNE 3',\n",
    "              color='labels', opacity=0.8)\n",
    "fig.update_traces(marker=dict(size=4))\n",
    "fig.show()"
   ]
  },
  {
   "cell_type": "code",
   "execution_count": null,
   "metadata": {},
   "outputs": [],
   "source": []
  },
  {
   "cell_type": "code",
   "execution_count": null,
   "metadata": {},
   "outputs": [],
   "source": []
  },
  {
   "cell_type": "code",
   "execution_count": null,
   "metadata": {},
   "outputs": [],
   "source": []
  }
 ],
 "metadata": {
  "kernelspec": {
   "display_name": "Python 3",
   "language": "python",
   "name": "python3"
  },
  "language_info": {
   "codemirror_mode": {
    "name": "ipython",
    "version": 3
   },
   "file_extension": ".py",
   "mimetype": "text/x-python",
   "name": "python",
   "nbconvert_exporter": "python",
   "pygments_lexer": "ipython3",
   "version": "3.8.3"
  }
 },
 "nbformat": 4,
 "nbformat_minor": 4
}
